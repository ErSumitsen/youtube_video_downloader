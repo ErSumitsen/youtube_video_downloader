{
 "cells": [
  {
   "cell_type": "code",
   "execution_count": 1,
   "id": "b9bd8f04-6438-4c57-9fd0-1d3ccdc2f5f2",
   "metadata": {},
   "outputs": [
    {
     "name": "stdout",
     "output_type": "stream",
     "text": [
      "Collecting pyqrcode\n",
      "  Downloading PyQRCode-1.2.1.zip (41 kB)\n",
      "     ---------------------------------------- 0.0/41.9 kB ? eta -:--:--\n",
      "     --------- ------------------------------ 10.2/41.9 kB ? eta -:--:--\n",
      "     --------------------------- ---------- 30.7/41.9 kB 262.6 kB/s eta 0:00:01\n",
      "     -------------------------------------- 41.9/41.9 kB 290.7 kB/s eta 0:00:00\n",
      "  Installing build dependencies: started\n",
      "  Installing build dependencies: finished with status 'done'\n",
      "  Getting requirements to build wheel: started\n",
      "  Getting requirements to build wheel: finished with status 'done'\n",
      "  Installing backend dependencies: started\n",
      "  Installing backend dependencies: finished with status 'done'\n",
      "  Preparing metadata (pyproject.toml): started\n",
      "  Preparing metadata (pyproject.toml): finished with status 'done'\n",
      "Building wheels for collected packages: pyqrcode\n",
      "  Building wheel for pyqrcode (pyproject.toml): started\n",
      "  Building wheel for pyqrcode (pyproject.toml): finished with status 'done'\n",
      "  Created wheel for pyqrcode: filename=PyQRCode-1.2.1-py3-none-any.whl size=36235 sha256=ade172d7c01976cec82f98fd7e5b2b31399278a108cfa9ea3dc54ddc475c182d\n",
      "  Stored in directory: c:\\users\\akash\\appdata\\local\\pip\\cache\\wheels\\f5\\db\\22\\ade11e0c0854d1bb2fcc673dc90f6495ee2c0d2b6eb41492e3\n",
      "Successfully built pyqrcode\n",
      "Installing collected packages: pyqrcode\n",
      "Successfully installed pyqrcode-1.2.1\n"
     ]
    },
    {
     "name": "stderr",
     "output_type": "stream",
     "text": [
      "DEPRECATION: Loading egg at h:\\lib\\site-packages\\vboxapi-1.0-py3.11.egg is deprecated. pip 24.3 will enforce this behaviour change. A possible replacement is to use pip for package installation.. Discussion can be found at https://github.com/pypa/pip/issues/12330\n"
     ]
    },
    {
     "name": "stdout",
     "output_type": "stream",
     "text": [
      "Collecting pypng\n",
      "  Downloading pypng-0.20220715.0-py3-none-any.whl.metadata (13 kB)\n",
      "Downloading pypng-0.20220715.0-py3-none-any.whl (58 kB)\n",
      "   ---------------------------------------- 0.0/58.1 kB ? eta -:--:--\n",
      "   ------- -------------------------------- 10.2/58.1 kB ? eta -:--:--\n",
      "   --------------------- ------------------ 30.7/58.1 kB 325.1 kB/s eta 0:00:01\n",
      "   ---------------------------- ----------- 41.0/58.1 kB 393.8 kB/s eta 0:00:01\n",
      "   ---------------------------------------- 58.1/58.1 kB 278.0 kB/s eta 0:00:00\n",
      "Installing collected packages: pypng\n",
      "Successfully installed pypng-0.20220715.0\n"
     ]
    },
    {
     "name": "stderr",
     "output_type": "stream",
     "text": [
      "DEPRECATION: Loading egg at h:\\lib\\site-packages\\vboxapi-1.0-py3.11.egg is deprecated. pip 24.3 will enforce this behaviour change. A possible replacement is to use pip for package installation.. Discussion can be found at https://github.com/pypa/pip/issues/12330\n"
     ]
    }
   ],
   "source": [
    "!pip install pyqrcode\n",
    "!pip install pypng\n"
   ]
  },
  {
   "cell_type": "code",
   "execution_count": 3,
   "id": "6f61bdd7-052d-494a-8a42-4d4dd0e9be81",
   "metadata": {},
   "outputs": [],
   "source": [
    "import pyqrcode\n",
    "import png\n",
    "\n",
    "# String which represents the QR code\n",
    "s = \"www.geeksforgeeks.org\"\n",
    "\n",
    "# Generate QR code\n",
    "url = pyqrcode.create(s)\n",
    "\n",
    "# Create and save the svg file naming \"myqr.svg\"\n",
    "url.svg(\"myqr.svg\", scale=8)\n",
    "\n",
    "# Create and save the png file naming \"myqr.png\"\n",
    "url.png(\"myqr.png\", scale=6)\n"
   ]
  },
  {
   "cell_type": "code",
   "execution_count": null,
   "id": "03b36c11-159b-4953-aee7-e58f2b155bca",
   "metadata": {},
   "outputs": [],
   "source": []
  }
 ],
 "metadata": {
  "kernelspec": {
   "display_name": "Python 3 (ipykernel)",
   "language": "python",
   "name": "python3"
  },
  "language_info": {
   "codemirror_mode": {
    "name": "ipython",
    "version": 3
   },
   "file_extension": ".py",
   "mimetype": "text/x-python",
   "name": "python",
   "nbconvert_exporter": "python",
   "pygments_lexer": "ipython3",
   "version": "3.11.5"
  }
 },
 "nbformat": 4,
 "nbformat_minor": 5
}
