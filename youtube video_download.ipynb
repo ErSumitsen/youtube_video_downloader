{
 "cells": [
  {
   "cell_type": "code",
   "execution_count": 2,
   "id": "3810feda-8ae4-4c19-805a-a2ba01bb098c",
   "metadata": {},
   "outputs": [
    {
     "name": "stdout",
     "output_type": "stream",
     "text": [
      "Collecting pytube\n",
      "  Downloading pytube-15.0.0-py3-none-any.whl.metadata (5.0 kB)\n",
      "Downloading pytube-15.0.0-py3-none-any.whl (57 kB)\n",
      "   ---------------------------------------- 0.0/57.6 kB ? eta -:--:--\n",
      "   ---------------------------------------- 0.0/57.6 kB ? eta -:--:--\n",
      "   ---------------------------------------- 0.0/57.6 kB ? eta -:--:--\n",
      "   ---------------------------------------- 0.0/57.6 kB ? eta -:--:--\n",
      "   ---------------------------------------- 0.0/57.6 kB ? eta -:--:--\n",
      "   ---------------------------------------- 0.0/57.6 kB ? eta -:--:--\n",
      "   ---------------------------------------- 0.0/57.6 kB ? eta -:--:--\n",
      "   ---------------------------------------- 0.0/57.6 kB ? eta -:--:--\n",
      "   ---------------------------------------- 0.0/57.6 kB ? eta -:--:--\n",
      "   ---------------------------------------- 0.0/57.6 kB ? eta -:--:--\n",
      "   ---------------------------------------- 0.0/57.6 kB ? eta -:--:--\n",
      "   ---------------------------------------- 0.0/57.6 kB ? eta -:--:--\n",
      "   ---------------------------------------- 0.0/57.6 kB ? eta -:--:--\n",
      "   ------- -------------------------------- 10.2/57.6 kB ? eta -:--:--\n",
      "   ------- -------------------------------- 10.2/57.6 kB ? eta -:--:--\n",
      "   -------------- ------------------------- 20.5/57.6 kB 131.3 kB/s eta 0:00:01\n",
      "   -------------- ------------------------- 20.5/57.6 kB 131.3 kB/s eta 0:00:01\n",
      "   -------------- ------------------------- 20.5/57.6 kB 131.3 kB/s eta 0:00:01\n",
      "   --------------------- ------------------ 30.7/57.6 kB 87.5 kB/s eta 0:00:01\n",
      "   ---------------------------- ----------- 41.0/57.6 kB 122.9 kB/s eta 0:00:01\n",
      "   ---------------------------- ----------- 41.0/57.6 kB 122.9 kB/s eta 0:00:01\n",
      "   ---------------------------- ----------- 41.0/57.6 kB 122.9 kB/s eta 0:00:01\n",
      "   ----------------------------------- ---- 51.2/57.6 kB 109.2 kB/s eta 0:00:01\n",
      "   ----------------------------------- ---- 51.2/57.6 kB 109.2 kB/s eta 0:00:01\n",
      "   ---------------------------------------- 57.6/57.6 kB 104.5 kB/s eta 0:00:00\n",
      "Installing collected packages: pytube\n",
      "Successfully installed pytube-15.0.0\n"
     ]
    },
    {
     "name": "stderr",
     "output_type": "stream",
     "text": [
      "DEPRECATION: Loading egg at h:\\lib\\site-packages\\vboxapi-1.0-py3.11.egg is deprecated. pip 24.3 will enforce this behaviour change. A possible replacement is to use pip for package installation.. Discussion can be found at https://github.com/pypa/pip/issues/12330\n"
     ]
    }
   ],
   "source": [
    "!pip install pytube"
   ]
  },
  {
   "cell_type": "code",
   "execution_count": 3,
   "id": "caf1df84-1030-4487-ae94-d3da1758ee1c",
   "metadata": {},
   "outputs": [],
   "source": [
    "import pytube"
   ]
  },
  {
   "cell_type": "code",
   "execution_count": 7,
   "id": "d7d6cb2c-c5c5-4f2e-850e-49b9d73e3bf7",
   "metadata": {},
   "outputs": [
    {
     "name": "stdin",
     "output_type": "stream",
     "text": [
      "Enter the YouTube video URL:  https://www.youtube.com/watch?v=0u0UFWrUDss\n"
     ]
    },
    {
     "name": "stdout",
     "output_type": "stream",
     "text": [
      "Downloaded https://www.youtube.com/watch?v=0u0UFWrUDss\n"
     ]
    }
   ],
   "source": [
    "from pytube import YouTube\n",
    "\n",
    "# Get the video URL from the user\n",
    "link = input('Enter the YouTube video URL: ')\n",
    "\n",
    "# Create a YouTube object\n",
    "yt = YouTube(link)\n",
    "\n",
    "# Get the first stream available\n",
    "stream = yt.streams.first()\n",
    "\n",
    "# Download the video\n",
    "stream.download()\n",
    "\n",
    "# Print the success message\n",
    "print('Downloaded', link)\n"
   ]
  },
  {
   "cell_type": "code",
   "execution_count": 9,
   "id": "f96e5e46-6226-4a58-bd2a-4e21a4dc91f8",
   "metadata": {},
   "outputs": [
    {
     "name": "stdin",
     "output_type": "stream",
     "text": [
      "Enter the YouTube video URL:  https://www.youtube.com/watch?v=LXb3EKWsInQ\n"
     ]
    },
    {
     "name": "stdout",
     "output_type": "stream",
     "text": [
      "Downloaded https://www.youtube.com/watch?v=LXb3EKWsInQ\n"
     ]
    }
   ],
   "source": [
    "from pytube import YouTube\n",
    "\n",
    "# Get the video URL from the user\n",
    "link = input('Enter the YouTube video URL: ')\n",
    "\n",
    "# Create a YouTube object\n",
    "yt = YouTube(link)\n",
    "\n",
    "# Get the highest resolution stream available\n",
    "stream = yt.streams.get_highest_resolution()\n",
    "\n",
    "# Download the video\n",
    "stream.download()\n",
    "\n",
    "# Print the success message\n",
    "print('Downloaded', link)\n"
   ]
  },
  {
   "cell_type": "code",
   "execution_count": null,
   "id": "896966f4-3324-4574-821e-a3ceedc1cf5c",
   "metadata": {},
   "outputs": [],
   "source": []
  }
 ],
 "metadata": {
  "kernelspec": {
   "display_name": "Python 3 (ipykernel)",
   "language": "python",
   "name": "python3"
  },
  "language_info": {
   "codemirror_mode": {
    "name": "ipython",
    "version": 3
   },
   "file_extension": ".py",
   "mimetype": "text/x-python",
   "name": "python",
   "nbconvert_exporter": "python",
   "pygments_lexer": "ipython3",
   "version": "3.11.5"
  }
 },
 "nbformat": 4,
 "nbformat_minor": 5
}
